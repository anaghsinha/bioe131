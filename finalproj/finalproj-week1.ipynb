{
 "cells": [
  {
   "attachments": {},
   "cell_type": "markdown",
   "metadata": {},
   "source": [
    "### Week 1: Metagenomic assembly of paired-end read data  \n",
    "\n",
    "metaspades analysis: Currently still running, appears that the cluster was having problems earlier in the week. Data will be uploaded as soon as received from assembler.  \n",
    "\n",
    "Histogram of contig lengths from metagenome assembly, including N50: Coming soon~  \n",
    "\n",
    "Summary of OneCodex results: ![onecodex-results.png](onecodex-results.png)\n",
    "\n",
    "Appears that the most prevalent bacteria in the sample are members of class Actinomyces, Cutibacterium, Escherichia, Micrococcus, and Staphylococcus - in that rough order\n",
    "\n",
    "One Codex showed that by far, most of the organisms living in the sample are bacteria. Groups with higher sampling frequency were often only identified to the phylum level, and the most frequently sampled group were unclassified bacteria. Acidobacteria (a phylum) was one of the most frequently seen phylums, and many acidobacteria are acidophillic, so this soil may have a low pH. The most frequently sampled bacteria that was identified to genus is Streptomyces. In total, there were 6032 unique identifications."
   ]
  },
  {
   "cell_type": "code",
   "execution_count": null,
   "metadata": {},
   "outputs": [],
   "source": []
  }
 ],
 "metadata": {
  "kernelspec": {
   "display_name": "Python 3",
   "language": "python",
   "name": "python3"
  },
  "language_info": {
   "codemirror_mode": {
    "name": "ipython",
    "version": 3
   },
   "file_extension": ".py",
   "mimetype": "text/x-python",
   "name": "python",
   "nbconvert_exporter": "python",
   "pygments_lexer": "ipython3",
   "version": "3.6.6"
  }
 },
 "nbformat": 4,
 "nbformat_minor": 2
}
