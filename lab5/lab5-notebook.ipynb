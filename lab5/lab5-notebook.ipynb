{
 "cells": [
  {
   "cell_type": "markdown",
   "metadata": {},
   "source": [
    "#### Hammerhead ribozyme logic gate sequences:\n",
    "\n",
    "* Template logic gate: GGGCGACCCUGAUGAGCUUGAGUUU(X)16-22AUCAGGCGAAACGGUGAAAGCCGUAGGUUGCCC\n",
    "* YES Gate: GGGCGACCCUGAUGAGCUUGAGUUUAGCUCGUCACUGUCCAGGUUCAAUCAGGCGAAACGGUGAAAGCCGUAGGUUGCCC\n",
    "* NOT Gate: GGGCGACCCUGAUGAGCUUGAGUUUUAGUUCAUCCCUAUCCAGGUUUAUCAGGCGAAACGGUGAAAGCCGUAGGUUGCCC\n",
    "* AND Gate: GGGCGACCCUGAUGAGCUUGAGUUUAGUAUUUACAGCUCCAUACAUGAGGUGUUAUCCCUAUGCAAGUUCGAUCAGGCGAAACGGUGAAAGCCGUAGGUUGCCC\n",
    "* OR Gate: GGGCGACCCUGAUGAGCUUGAGUUUACAGCUCCAUACAUGAGGUGUUCUCCCUACGCAAGUUCGAUCAGGCGAAAAUCAGGCGAAAGCCGUAGGUUGCCC\n"
   ]
  },
  {
   "cell_type": "code",
   "execution_count": 2,
   "metadata": {},
   "outputs": [],
   "source": [
    "import sqlite3\n",
    "conn = sqlite3.connect('my_logic_gate.db')\n",
    "c = conn.cursor()"
   ]
  },
  {
   "cell_type": "code",
   "execution_count": 3,
   "metadata": {},
   "outputs": [
    {
     "data": {
      "text/plain": [
       "<sqlite3.Cursor at 0x25727bdf500>"
      ]
     },
     "execution_count": 3,
     "metadata": {},
     "output_type": "execute_result"
    }
   ],
   "source": [
    "c.execute(\"\"\"DROP TABLE riboswitches\"\"\")\n",
    "\n",
    "c.execute(\"\"\" CREATE TABLE riboswitches (name TEXT, \n",
    "                                         seq TEXT, \n",
    "                                         startOBS1 INT, \n",
    "                                         endOBS1 INT, \n",
    "                                         startOBS2 INT, \n",
    "                                         endOBS2 INT, \n",
    "                                         startRED1 INT, \n",
    "                                         endRED1 INT, \n",
    "                                         startRED2 INT, \n",
    "                                         endRED2 INT);\"\"\")\n",
    "\n"
   ]
  },
  {
   "cell_type": "code",
   "execution_count": 12,
   "metadata": {},
   "outputs": [],
   "source": [
    "c.execute(\"\"\"INSERT INTO riboswitches (name,\n",
    "                                        seq,\n",
    "                                        startOBS1,\n",
    "                                        endOBS1,\n",
    "                                        startRED1,\n",
    "                                        endRED1,\n",
    "                                        startRED2,\n",
    "                                        endRED2)\n",
    "                        VALUES ('YES-1',\n",
    "                                'GGGCGACCCUGAUGAGCUUGAGUUUAGCUCGUCACUGUCCAGGUUCAAUCAGGCGAAACGGUGAAAGCCGUAGGUUGCCC',\n",
    "                                26,\n",
    "                                47,\n",
    "                                16,\n",
    "                                21,\n",
    "                                49,\n",
    "                                54)\n",
    "                                \n",
    "        ;\"\"\")\n",
    "\n",
    "c.execute(\"\"\"INSERT INTO riboswitches (name,\n",
    "                                        seq,\n",
    "                                        startOBS1,\n",
    "                                        endOBS1,\n",
    "                                        startRED1,\n",
    "                                        endRED1,\n",
    "                                        startRED2,\n",
    "                                        endRED2)\n",
    "                        VALUES (\"NOT-1\",\n",
    "                                \"GGGCGACCCUGAUGAGCUUGAGUUUUAGUUCAUCCCUAUCCAGGUUUAUCAGGCGAAACGGUGAAAGCCGUAGGUUGCCC\",\n",
    "                                44,\n",
    "                                66,\n",
    "                                40,\n",
    "                                44,\n",
    "                                74,\n",
    "                                77)\n",
    "                                \n",
    "        ;\"\"\")\n",
    "\n",
    "c.execute(\"\"\"INSERT INTO riboswitches (name,\n",
    "                                        seq,\n",
    "                                        startOBS1,\n",
    "                                        endOBS1,\n",
    "                                        startOBS2,\n",
    "                                        endOBS2,\n",
    "                                        startRED1,\n",
    "                                        endRED1,\n",
    "                                        startRED2,\n",
    "                                        endRED2)\n",
    "                        VALUES (\"AND-1\",\n",
    "                                \"GGGCGACCCUGAUGAGCUUGAGUUUUAGUUCAUCCCUAUCCAGGUUUAUCAGGCGAAACGGUGAAAGCCGUAGGUUGCCC\",\n",
    "                                30,\n",
    "                                45,\n",
    "                                49,\n",
    "                                64,\n",
    "                                16,\n",
    "                                23,\n",
    "                                70,\n",
    "                                77)\n",
    "                                \n",
    "        ;\"\"\")\n",
    "c.execute(\"\"\"INSERT INTO riboswitches (name,\n",
    "                                        seq,\n",
    "                                        startOBS1,\n",
    "                                        endOBS1,\n",
    "                                        startOBS2,\n",
    "                                        endOBS2,\n",
    "                                        startRED1,\n",
    "                                        endRED1,\n",
    "                                        startRED2,\n",
    "                                        endRED2)\n",
    "                        VALUES (\"OR-1\",\n",
    "                                \"GGGCGACCCUGAUGAGCUUGAGUUUACAGCUCCAUACAUGAGGUGUUCUCCCUACGCAAGUUCGAUCAGGCGAAAAUCAGGCGAAAGCCGUAGGUUGCCC\",\n",
    "                                27,\n",
    "                                47,\n",
    "                                47,\n",
    "                                66,\n",
    "                                16,\n",
    "                                26,\n",
    "                                67,\n",
    "                                77)\n",
    "                                \n",
    "        ;\"\"\")\n",
    "conn.commit()"
   ]
  },
  {
   "cell_type": "code",
   "execution_count": 43,
   "metadata": {
    "scrolled": true
   },
   "outputs": [
    {
     "name": "stdout",
     "output_type": "stream",
     "text": [
      "***THIS IS WHAT YOU'D SEE ON YOUR TERMINAL***\n",
      "\n",
      "***AND THIS WOULD HAVE BEEN IN YOUR OUTPUT FILE***\n",
      "GGGCGACCCUGAUGAGCUUGAGUUUAGCUCGUCACUGUCCAGGUUCAAUCAGGCGAAACGGUGAAAGCCGUAGGUUGCCC\n",
      "((((((((.(((((((((.......))))))))).((.((.(((...))).))))..(((((....))))).)))))))) (-33.00)\n",
      "\n",
      "***THIS IS WHAT YOU'D SEE ON YOUR TERMINAL***\n",
      "\n",
      "***AND THIS WOULD HAVE BEEN IN YOUR OUTPUT FILE***\n",
      "GGGCGACCCUGAUGAGCUUGAGUUUUAGUUCAUCCCUAUCCAGGUUUAUCAGGCGAAACGGUGAAAGCCGUAGGUUGCCC\n",
      "((((((((((((((((((((.(...(((.......))).))))))))))))).....(((((....))))).)))))))) (-33.10)\n",
      "\n",
      "***THIS IS WHAT YOU'D SEE ON YOUR TERMINAL***\n",
      "\n",
      "***AND THIS WOULD HAVE BEEN IN YOUR OUTPUT FILE***\n",
      "GGGCGACCCUGAUGAGCUUGAGUUUAGUAUUUACAGCUCCAUACAUGAGGUGUUAUCCCUAUGCAAGUUCGAUCAGGCGAAACGGUGAAAGCCGUAGGUUGCCC\n",
      "((((((((((((((((((((....(((.....(((.(((.......))).))).....)))..))))))).))))).....(((((....))))).)))))))) (-40.20)\n",
      "\n",
      "***THIS IS WHAT YOU'D SEE ON YOUR TERMINAL***\n",
      "\n",
      "***AND THIS WOULD HAVE BEEN IN YOUR OUTPUT FILE***\n",
      "GGGCGACCCUGAUGAGCUUGAGUUUACAGCUCCAUACAUGAGGUGUUCUCCCUACGCAAGUUCGAUCAGGCGAAAAUCAGGCGAAAGCCGUAGGUUGCCC\n",
      "((((((((((((((((((((.((..(((.(((.......))).))).......)).))))))).)))))..........(((....)))...)))))))) (-37.20)\n",
      "\n"
     ]
    }
   ],
   "source": [
    "from Bio import SeqIO\n",
    "import subprocess\n",
    "\n",
    "sequence = []\n",
    "for record in SeqIO.parse(\"riboseqs.fa\", \"fasta\"):\n",
    "    sequence.append(record.seq)\n",
    "    p = subprocess.run(['RNAfold'], \n",
    "                     input = bytes(str(record.seq), 'ascii'),\n",
    "                     stdout = subprocess.PIPE,\n",
    "                     stderr = subprocess.PIPE)\n",
    "    \n",
    "    print(\"***THIS IS WHAT YOU'D SEE ON YOUR TERMINAL***\")\n",
    "    print(p.stderr.decode())\n",
    "\n",
    "    print(\"***AND THIS WOULD HAVE BEEN IN YOUR OUTPUT FILE***\")\n",
    "    print(p.stdout.decode())\n",
    "\n",
    "    "
   ]
  },
  {
   "cell_type": "code",
   "execution_count": 18,
   "metadata": {},
   "outputs": [
    {
     "name": "stdout",
     "output_type": "stream",
     "text": [
      "GGGCGACCCUGAUGAGCUUGAGUUUAGCUCGUCACUGUCCAGGUUCAAUCAGGCGAAACGGUGAAAGCCGUAGGUUGCCC\n",
      "GGGCGACCCUGAUGAGCUUGAGUUUUAGUUCAUCCCUAUCCAGGUUUAUCAGGCGAAACGGUGAAAGCCGUAGGUUGCCC\n",
      "GGGCGACCCUGAUGAGCUUGAGUUUAGUAUUUACAGCUCCAUACAUGAGGUGUUAUCCCUAUGCAAGUUCGAUCAGGCGAAACGGUGAAAGCCGUAGGUUGCCC\n",
      "GGGCGACCCUGAUGAGCUUGAGUUUACAGCUCCAUACAUGAGGUGUUCUCCCUACGCAAGUUCGAUCAGGCGAAAAUCAGGCGAAAGCCGUAGGUUGCCC\n"
     ]
    }
   ],
   "source": [
    "from Bio import SeqIO\n",
    "import subprocess\n",
    "\n",
    "sequence = []\n",
    "for record in SeqIO.parse(\"riboseqs.fa\", \"fasta\"):\n",
    "    print(str(record.seq))"
   ]
  },
  {
   "cell_type": "code",
   "execution_count": null,
   "metadata": {},
   "outputs": [],
   "source": [
    "\n",
    "\n"
   ]
  }
 ],
 "metadata": {
  "kernelspec": {
   "display_name": "Python 3",
   "language": "python",
   "name": "python3"
  },
  "language_info": {
   "codemirror_mode": {
    "name": "ipython",
    "version": 3
   },
   "file_extension": ".py",
   "mimetype": "text/x-python",
   "name": "python",
   "nbconvert_exporter": "python",
   "pygments_lexer": "ipython3",
   "version": "3.6.5"
  }
 },
 "nbformat": 4,
 "nbformat_minor": 2
}
