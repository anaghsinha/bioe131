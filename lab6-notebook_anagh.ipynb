{
 "cells": [
  {
   "cell_type": "markdown",
   "metadata": {},
   "source": [
    "### Lab 6:\n",
    "\n",
    "Project completed on bioe131.com server\n",
    "\n",
    "#### Step 1: Align reads to human genome to detect contamination\n",
    "\n",
    "Database to align to: /data/hg19/hg19\n",
    "--un unaligned.fastq used. \"unaligned.fastq\" contains assumed pure S. oneidensis reference genome\n",
    "\n",
    "Input message: be131-40@meowth:~$ bowtie2 -p 4 --very-fast --no-unal -x /data/hg19/hg19 -U /data/lab6/illumina_reads.fastq -S output1.sam --un unaligned.fastq\n",
    "\n",
    "Output message: 1124714 reads; of these:\n",
    "  1124714 (100.00%) were unpaired; of these:\n",
    "    1028379 (91.43%) aligned 0 times\n",
    "    87274 (7.76%) aligned exactly 1 time\n",
    "    9061 (0.81%) aligned >1 times\n",
    "8.57% overall alignment rate\n",
    "\n",
    "Contaminating Human DNA forms about 8.57% of our reads.\n",
    "\n",
    "#### Step 2: Align reads to Shewanella genome\n",
    "\n",
    "Database to align to: /data/lab6/shewanella_oneidensis_mr-1\n",
    "\n",
    "Input message: be131-40@meowth:~$ bowtie2 -p 4 --very-fast --no-unal -x /data/lab6/shewanella_oneidensis_mr-1 -U unaligned.fastq -S filtered_output0.sam  --un filtered_unaligned.fastq\n",
    "\n",
    "Output message: 1028379 reads; of these:\n",
    "  1028379 (100.00%) were unpaired; of these:\n",
    "    299560 (29.13%) aligned 0 times\n",
    "    687571 (66.86%) aligned exactly 1 time\n",
    "    41248 (4.01%) aligned >1 times\n",
    "70.87% overall alignment rate\n",
    "\n",
    "filtered_unaligned.fastq contains the assumed pure Shewanella oneidensis reads that the alignment program didn't align to the genome. In theory, these could be contaminating reads from another species but it is far more likely that these reads weren't aligned due to the low sensitivity of the alignment run (i.e. by use of the --very-fast option)\n",
    "\n",
    "According to output message: 29.13% of the S. oneidensis genome didn't align to the reads we used. \n",
    "\n",
    "Lets try to re-run the above alignment using --very-sensitive this time.\n",
    "\n",
    "Input message: bowtie2 -p 4 --very-sensitive --no-unal -x /data/lab6/shewanella_s_mr-1 -U unaligned.fastq -S filtered_output0.sam  --un filtered_unaligned.fastq\n",
    "\n",
    "\n",
    "Output message: 1028379 reads; of these:\n",
    "  1028379 (100.00%) were unpaired; of these:\n",
    "    298112 (28.99%) aligned 0 times\n",
    "    688180 (66.92%) aligned exactly 1 time\n",
    "    42087 (4.09%) aligned >1 times\n",
    "71.01% overall alignment rate\n",
    "\n",
    "According to output message: 28.99% of the S. oneidensis genome didn't align to the reads we used. The percentage of aligned reads decreased, but not by much. \n",
    "\n",
    "This indicates that it is probably not the program's sensitivity but it could be that this Shewanella sequencing run was error-prone, or that this Shewanella culture had genomes that had diverged significantly from the reference genome, or that there is contamination by something else other than humans. "
   ]
  },
  {
   "cell_type": "markdown",
   "metadata": {},
   "source": [
    "#### Step 3: Generate a coverage plot\n",
    "\n",
    "SAM File: filtered_output0.sam  \n",
    "BAM File it was converted to: filtered_output0_bam.bam  \n",
    "Sorted and Indexed BAM file: filtered_output0_bam.sorted.bam  \n",
    "Tab file containing position v depth information: pileup0.tab"
   ]
  },
  {
   "cell_type": "code",
   "execution_count": 1,
   "metadata": {},
   "outputs": [],
   "source": [
    "import csv\n",
    "posn = []\n",
    "depth = []\n",
    "with open('pileup0.tab') as csvfile: \n",
    "    students_reader = csv.reader(csvfile, delimiter='\\t')\n",
    "    for row in students_reader:\n",
    "        posn.append(int(row[1]))\n",
    "        depth.append(int(row[2]))\n",
    "        "
   ]
  },
  {
   "cell_type": "code",
   "execution_count": 2,
   "metadata": {},
   "outputs": [
    {
     "name": "stdout",
     "output_type": "stream",
     "text": [
      "Minimum coverage 1, Maximum Coverage 281, Mean Coverage 37\n"
     ]
    }
   ],
   "source": [
    "import numpy as np\n",
    "\n",
    "print(\"Minimum coverage %d, Maximum Coverage %d, Mean Coverage %d\" %(min(depth),max(depth),np.mean(depth)))"
   ]
  },
  {
   "cell_type": "code",
   "execution_count": 6,
   "metadata": {},
   "outputs": [
    {
     "data": {
      "image/png": "[encoded data removed]",
      "text/plain": [
       "<Figure size 432x288 with 1 Axes>"
      ]
     },
     "metadata": {
      "needs_background": "light"
     },
     "output_type": "display_data"
    }
   ],
   "source": [
    "import matplotlib.pyplot as plt\n",
    "\n",
    "plt.scatter(posn, depth, s=(1 ** 2))\n",
    "plt.xlabel(\"Position\")\n",
    "plt.ylabel(\"Coverage\")\n",
    "plt.show()"
   ]
  },
  {
   "cell_type": "code",
   "execution_count": 4,
   "metadata": {},
   "outputs": [],
   "source": [
    "countdepth = {} #key:value pairs are depth:count \n",
    "for i in range(len(posn)):\n",
    "    if depth[i] in countdepth.keys():\n",
    "        countdepth[depth[i]] += 1\n",
    "    else:\n",
    "        countdepth[depth[i]] = 1\n",
    "\n",
    "#print(countdepth)\n",
    "    "
   ]
  },
  {
   "cell_type": "code",
   "execution_count": 5,
   "metadata": {},
   "outputs": [
    {
     "data": {
      "image/png": "[encoded data removed]",
      "text/plain": [
       "<Figure size 576x144 with 1 Axes>"
      ]
     },
     "metadata": {
      "needs_background": "light"
     },
     "output_type": "display_data"
    }
   ],
   "source": [
    "countdepthls = [(k,v) for k,v in countdepth.items()] #tuple pairs are [depth, count] \n",
    "countdepthls.sort()\n",
    "\n",
    "#print (countdepthls)\n",
    "\n",
    "x = [thing[0] for thing in countdepthls if thing[0] < 80] #the limit of 170 is only for the purpose of meaking the plot look nicer\n",
    "hts = [thing[1] for thing in countdepthls if thing[0] < 80]\n",
    "wid = 0.3\n",
    "\n",
    "plt.figure(figsize=(8,2))\n",
    "plt.bar(x, hts)\n",
    "plt.xlabel(\"Degree of Coverage\")\n",
    "plt.ylabel(\"Count\")\n",
    "plt.show()"
   ]
  },
  {
   "cell_type": "code",
   "execution_count": null,
   "metadata": {},
   "outputs": [],
   "source": []
  }
 ],
 "metadata": {
  "kernelspec": {
   "display_name": "Python 3",
   "language": "python",
   "name": "python3"
  },
  "language_info": {
   "codemirror_mode": {
    "name": "ipython",
    "version": 3
   },
   "file_extension": ".py",
   "mimetype": "text/x-python",
   "name": "python",
   "nbconvert_exporter": "python",
   "pygments_lexer": "ipython3",
   "version": "3.6.6"
  }
 },
 "nbformat": 4,
 "nbformat_minor": 2
}
