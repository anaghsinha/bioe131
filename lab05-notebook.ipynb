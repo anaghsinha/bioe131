{
 "cells": [
  {
   "cell_type": "markdown",
   "metadata": {},
   "source": [
    "#### Hammerhead ribozyme logic gate sequences:\n",
    "\n",
    "Source of sequences: https://www.nature.com/articles/nbt1155\n",
    "\n",
    "Computational design and experimental validationof oligonucleotide-sensing allosteric ribozymes\n",
    "\n",
    "* Template logic gate: GGGCGACCCUGAUGAGCUUGAGUUU(X)16-22AUCAGGCGAAACGGUGAAAGCCGUAGGUUGCCC\n",
    "* YES Gate: GGGCGACCCUGAUGAGCUUGAGUUUAGCUCGUCACUGUCCAGGUUCAAUCAGGCGAAACGGUGAAAGCCGUAGGUUGCCC\n",
    "* NOT Gate: GGCAGGUACAUACAGCUGAUGAGUCCCAAAUAGGACGAAACGCGACACACACCACUAAACCGUGCAGUGUUUUGCGUCCUGUAUUCCACUGC\n",
    "* AND Gate: GGGCGACCCUGAUGAGCUUGAGUUUAGUAUUUACAGCUCCAUACAUGAGGUGUUAUCCCUAUGCAAGUUCGAUCAGGCGAAACGGUGAAAGCCGUAGGUUGCCCAGAAGACAAU\n",
    "* OR Gate: GGGCGACCCUGAUGAGCUUGGUUGAGUAUUUACAGCUCCAUACAUGAGGUGUUCUCCCUACGCAAGUUCGAUCAGGCGAAACGGUGAAAGCCGUAGGUUGCCCAGAGACAAU\n"
   ]
  },
  {
   "cell_type": "code",
   "execution_count": 1,
   "metadata": {},
   "outputs": [],
   "source": [
    "import sqlite3\n",
    "conn = sqlite3.connect('my_logic_gate.db')\n",
    "c = conn.cursor()"
   ]
  },
  {
   "cell_type": "code",
   "execution_count": 2,
   "metadata": {},
   "outputs": [
    {
     "data": {
      "text/plain": [
       "<sqlite3.Cursor at 0x24ed09f5490>"
      ]
     },
     "execution_count": 2,
     "metadata": {},
     "output_type": "execute_result"
    }
   ],
   "source": [
    "c.execute(\"\"\"DROP TABLE riboswitches\"\"\")\n",
    "\n",
    "c.execute(\"\"\" CREATE TABLE riboswitches (name TEXT, \n",
    "                                         seq TEXT, \n",
    "                                         startOBS1 INT, \n",
    "                                         endOBS1 INT, \n",
    "                                         startOBS2 INT, \n",
    "                                         endOBS2 INT, \n",
    "                                         startRED1 INT, \n",
    "                                         endRED1 INT, \n",
    "                                         startRED2 INT, \n",
    "                                         endRED2 INT);\"\"\")\n",
    "\n"
   ]
  },
  {
   "cell_type": "code",
   "execution_count": 3,
   "metadata": {},
   "outputs": [],
   "source": [
    "c.execute(\"\"\"INSERT INTO riboswitches (name,\n",
    "                                        seq,\n",
    "                                        startOBS1,\n",
    "                                        endOBS1,\n",
    "                                        startRED1,\n",
    "                                        endRED1,\n",
    "                                        startRED2,\n",
    "                                        endRED2)\n",
    "                        VALUES ('YES-1',\n",
    "                                'GGGCGACCCUGAUGAGCUUGAGUUUAGCUCGUCACUGUCCAGGUUCAAUCAGGCGAAACGGUGAAAGCCGUAGGUUGCCC',\n",
    "                                26,\n",
    "                                47,\n",
    "                                16,\n",
    "                                21,\n",
    "                                49,\n",
    "                                54)\n",
    "                                \n",
    "        ;\"\"\")\n",
    "\n",
    "c.execute(\"\"\"INSERT INTO riboswitches (name,\n",
    "                                        seq,\n",
    "                                        startOBS1,\n",
    "                                        endOBS1,\n",
    "                                        startRED1,\n",
    "                                        endRED1,\n",
    "                                        startRED2,\n",
    "                                        endRED2)\n",
    "                        VALUES (\"NOT-1\",\n",
    "                                \"GGCAGGUACAUACAGCUGAUGAGUCCCAAAUAGGACGAAACGCGACACACACCACUAAACCGUGCAGUGUUUUGCGUCCUGUAUUCCACUGC\",\n",
    "                                44,\n",
    "                                66,\n",
    "                                40,\n",
    "                                44,\n",
    "                                74,\n",
    "                                77)\n",
    "                                \n",
    "        ;\"\"\")\n",
    "\n",
    "c.execute(\"\"\"INSERT INTO riboswitches (name,\n",
    "                                        seq,\n",
    "                                        startOBS1,\n",
    "                                        endOBS1,\n",
    "                                        startOBS2,\n",
    "                                        endOBS2,\n",
    "                                        startRED1,\n",
    "                                        endRED1,\n",
    "                                        startRED2,\n",
    "                                        endRED2)\n",
    "                        VALUES (\"AND-1\",\n",
    "                                \"GGGCGACCCUGAUGAGCUUGAGUUUAGUAUUUACAGCUCCAUACAUGAGGUGUUAUCCCUAUGCAAGUUCGAUCAGGCGAAACGGUGAAAGCCGUAGGUUGCCC\",\n",
    "                                30,\n",
    "                                45,\n",
    "                                49,\n",
    "                                64,\n",
    "                                16,\n",
    "                                23,\n",
    "                                70,\n",
    "                                77)\n",
    "                                \n",
    "        ;\"\"\")\n",
    "c.execute(\"\"\"INSERT INTO riboswitches (name,\n",
    "                                        seq,\n",
    "                                        startOBS1,\n",
    "                                        endOBS1,\n",
    "                                        startOBS2,\n",
    "                                        endOBS2,\n",
    "                                        startRED1,\n",
    "                                        endRED1,\n",
    "                                        startRED2,\n",
    "                                        endRED2)\n",
    "                        VALUES (\"OR-1\",\n",
    "                                \"GGGCGACCCUGAUGAGCUUGGUUGAGUAUUUACAGCUCCAUACAUGAGGUGUUCUCCCUACGCAAGUUCGAUCAGGCGAAACGGUGAAAGCCGUAGGUUGCCCAGAGACAAU\",\n",
    "                                27,\n",
    "                                46,\n",
    "                                47,\n",
    "                                66,\n",
    "                                16,\n",
    "                                26,\n",
    "                                67,\n",
    "                                77)\n",
    "                                \n",
    "        ;\"\"\")\n",
    "conn.commit()"
   ]
  },
  {
   "cell_type": "markdown",
   "metadata": {},
   "source": [
    "Running RNAfold as a subprocess:"
   ]
  },
  {
   "cell_type": "code",
   "execution_count": 4,
   "metadata": {
    "scrolled": true
   },
   "outputs": [
    {
     "name": "stdout",
     "output_type": "stream",
     "text": [
      "***THIS IS WHAT YOU'D SEE ON YOUR TERMINAL***\n",
      "\n",
      "***AND THIS WOULD HAVE BEEN IN YOUR OUTPUT FILE***\n",
      "GGGCGACCCUGAUGAGCUUGAGUUUAGCUCGUCACUGUCCAGGUUCAAUCAGGCGAAACGGUGAAAGCCGUAGGUUGCCC\r\n",
      "((((((((.(((((((((.......))))))))).((.((.(((...))).))))..(((((....))))).)))))))) (-33.00)\r\n",
      "\n",
      "***THIS IS WHAT YOU'D SEE ON YOUR TERMINAL***\n",
      "\n",
      "***AND THIS WOULD HAVE BEEN IN YOUR OUTPUT FILE***\n",
      "GGCAGGUACAUACAGCUGAUGAGUCCCAAAUAGGACGAAACGCGACACACACCACUAAACCGUGCAGUGUUUUGCGUCCUGUAUUCCACUGC\r\n",
      ".((((....((((((.......((((......))))...((((((.((((..(((......)))..)))).)))))).))))))....)))) (-28.10)\r\n",
      "\n",
      "***THIS IS WHAT YOU'D SEE ON YOUR TERMINAL***\n",
      "\n",
      "***AND THIS WOULD HAVE BEEN IN YOUR OUTPUT FILE***\n",
      "GGGCGACCCUGAUGAGCUUGAGUUUAGUAUUUACAGCUCCAUACAUGAGGUGUUAUCCCUAUGCAAGUUCGAUCAGGCGAAACGGUGAAAGCCGUAGGUUGCCC\r\n",
      "((((((((((((((((((((....(((.....(((.(((.......))).))).....)))..))))))).))))).....(((((....))))).)))))))) (-40.20)\r\n",
      "\n",
      "***THIS IS WHAT YOU'D SEE ON YOUR TERMINAL***\n",
      "\n",
      "***AND THIS WOULD HAVE BEEN IN YOUR OUTPUT FILE***\n",
      "GGGCGACCCUGAUGAGCUUGAGUUUACAGCUCCAUACAUGAGGUGUUCUCCCUACGCAAGUUCGAUCAGGCGAAAAUCAGGCGAAAGCCGUAGGUUGCCC\r\n",
      "((((((((((((((((((((.((..(((.(((.......))).))).......)).))))))).)))))..........(((....)))...)))))))) (-37.20)\r\n",
      "\n"
     ]
    }
   ],
   "source": [
    "from Bio import SeqIO\n",
    "import subprocess\n",
    "\n",
    "sequence = []\n",
    "for record in SeqIO.parse(\"riboseqs.fa\", \"fasta\"):\n",
    "    sequence.append(record.seq)\n",
    "    p = subprocess.run(['RNAfold'], \n",
    "                     input = bytes(str(record.seq), 'ascii'),\n",
    "                     stdout = subprocess.PIPE,\n",
    "                     stderr = subprocess.PIPE)\n",
    "    \n",
    "    print(\"***THIS IS WHAT YOU'D SEE ON YOUR TERMINAL***\")\n",
    "    print(p.stderr.decode())\n",
    "\n",
    "    print(\"***AND THIS WOULD HAVE BEEN IN YOUR OUTPUT FILE***\")\n",
    "    print(p.stdout.decode())"
   ]
  },
  {
   "cell_type": "markdown",
   "metadata": {},
   "source": [
    "Plot of YES gate with default settings:\n",
    "\n",
    "\n",
    "![image.png](img0.png)"
   ]
  },
  {
   "attachments": {},
   "cell_type": "markdown",
   "metadata": {},
   "source": [
    "Plot of YES gate from paper:\n",
    "![image.png](img1.png)"
   ]
  },
  {
   "cell_type": "markdown",
   "metadata": {},
   "source": [
    "Default settings give a structure with 3 stem loops, while paper gives 2 stem loops. One of the stem loops from the paper's structures is very long, while the stem loop from the default setting has shorter loops."
   ]
  },
  {
   "attachments": {},
   "cell_type": "markdown",
   "metadata": {},
   "source": [
    "At temperature of 5C, the simulated structure looks more similar to the paper (2 stem loops with similar base pairing):\n",
    "![image.png](img2.png)"
   ]
  },
  {
   "attachments": {},
   "cell_type": "markdown",
   "metadata": {},
   "source": [
    "Plot of NOT gate with default settings:\n",
    "![image.png](img3.png)"
   ]
  },
  {
   "attachments": {},
   "cell_type": "markdown",
   "metadata": {},
   "source": [
    "Plot of NOT gate from paper:\n",
    "![image.png](img4.png)"
   ]
  },
  {
   "attachments": {},
   "cell_type": "markdown",
   "metadata": {},
   "source": [
    "The simulated structure with default parameters has an extra bulge where the stem loops meet compared to the structure in the paper, but at a temperature of 5 the extra bulge is smaller, as shown below.\n",
    "\n",
    "![image.png](img5.png)\n"
   ]
  },
  {
   "attachments": {},
   "cell_type": "markdown",
   "metadata": {},
   "source": [
    "Plot of AND gate with default settings:\n",
    "\n",
    "![image.png](img6.png)"
   ]
  },
  {
   "cell_type": "markdown",
   "metadata": {},
   "source": [
    "Plot of AND gate from paper:\n",
    "![image.png](img7.png)"
   ]
  },
  {
   "cell_type": "markdown",
   "metadata": {},
   "source": [
    "The structure of the AND gate from the default settings are already nearly identical, but the paper shows a larger bulge at the intersection of the 'T\" shape. This is due to one structure having a GC bond at one end of the bulge while the other has a different GC bond at the other end. Default parameters use a temperature of 37C"
   ]
  },
  {
   "attachments": {},
   "cell_type": "markdown",
   "metadata": {},
   "source": [
    "Plot of OR gate with default settings:\n",
    "![image.png](img8.png)"
   ]
  },
  {
   "attachments": {},
   "cell_type": "markdown",
   "metadata": {},
   "source": [
    "Plot of OR gate from paper:\n",
    "![image.png](img9.png)"
   ]
  },
  {
   "cell_type": "markdown",
   "metadata": {},
   "source": [
    "The plot from the default parameters is identical to the structure in the paper, as far as I can tell. Default parameters use a temperature of 37C.\n"
   ]
  },
  {
   "attachments": {},
   "cell_type": "markdown",
   "metadata": {},
   "source": [
    "YES-1 OBS bound to target:\n",
    "![image.png](img10.png)"
   ]
  },
  {
   "attachments": {},
   "cell_type": "markdown",
   "metadata": {},
   "source": [
    "NOT-1 Constrained:\n",
    "![image.png](img11.png)"
   ]
  },
  {
   "attachments": {},
   "cell_type": "markdown",
   "metadata": {},
   "source": [
    "AND-1, first OBS constrained:\n",
    "![image.png](img12.png)"
   ]
  },
  {
   "attachments": {},
   "cell_type": "markdown",
   "metadata": {},
   "source": [
    "AND-1, second OBS constrained:\n",
    "![image.png](img13.png)"
   ]
  },
  {
   "attachments": {},
   "cell_type": "markdown",
   "metadata": {},
   "source": [
    "AND-1, both OBSs constrained:\n",
    "    ![image.png](img14.png)"
   ]
  },
  {
   "attachments": {},
   "cell_type": "markdown",
   "metadata": {},
   "source": [
    "OR-1, first OBS constrained:\n",
    "![image.png](img15.png)"
   ]
  },
  {
   "attachments": {},
   "cell_type": "markdown",
   "metadata": {},
   "source": [
    "OR-1, second OBS constrained:\n",
    "![image.png](img16.png)"
   ]
  },
  {
   "attachments": {},
   "cell_type": "markdown",
   "metadata": {},
   "source": [
    "OR-1, both OBSs constrained:\n",
    "![image.png](img17.png)"
   ]
  },
  {
   "cell_type": "code",
   "execution_count": null,
   "metadata": {},
   "outputs": [],
   "source": []
  }
 ],
 "metadata": {
  "kernelspec": {
   "display_name": "Python 3",
   "language": "python",
   "name": "python3"
  },
  "language_info": {
   "codemirror_mode": {
    "name": "ipython",
    "version": 3
   },
   "file_extension": ".py",
   "mimetype": "text/x-python",
   "name": "python",
   "nbconvert_exporter": "python",
   "pygments_lexer": "ipython3",
   "version": "3.6.5"
  }
 },
 "nbformat": 4,
 "nbformat_minor": 2
}
